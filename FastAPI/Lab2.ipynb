{
 "cells": [
  {
   "cell_type": "markdown",
   "id": "2a628ad5",
   "metadata": {},
   "source": [
    "#### setMiddleware() \n",
    "Middleware là một lớp trung gian chạy trước và sau mỗi request. Nó sinh ra dùng để xử lý các tác vụ chung cho mọi request như:\n",
    "* logging \n",
    "* Open/Close database session "
   ]
  },
  {
   "cell_type": "code",
   "execution_count": null,
   "metadata": {},
   "outputs": [],
   "source": [
    "from fastapi import FastAPI, Request \n",
    "\n",
    "app = FastAPI() \n",
    "@app.get(\"/hello\")\n",
    "def hello():\n",
    "    return {\"message\": \"Hello, World!\"} \n",
    "\n",
    "\n"
   ]
  },
  {
   "cell_type": "code",
   "execution_count": null,
   "id": "4e80d683",
   "metadata": {},
   "outputs": [],
   "source": []
  }
 ],
 "metadata": {
  "language_info": {
   "name": "python"
  }
 },
 "nbformat": 4,
 "nbformat_minor": 5
}
