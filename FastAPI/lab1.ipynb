{
 "cells": [
  {
   "cell_type": "markdown",
   "id": "5fc798c3",
   "metadata": {},
   "source": [
    "### Python Types\n",
    "\n",
    "python hỗ trợ  \"type hints\" giúp khai báo type của biến giống như C++\n",
    "tại sao phải cần như vậy:\n",
    "* code rõ ràng dễ đọc hơn \n",
    "* ide đề xuất các method tương ứng \n"
   ]
  },
  {
   "cell_type": "code",
   "execution_count": null,
   "id": "c86c6ac2",
   "metadata": {},
   "outputs": [],
   "source": [
    "## example \n",
    "def get_full_name(first_name, last_name):\n",
    "    full_name = first_name() + \" \" + last_name.title() \n",
    "    return full_name \n",
    "\n",
    "def get_full_name_with_type_hint(first_name : str, last_name : str) -> str:\n",
    "    full_name = first_name().title() + \" \" + last_name.title() \n",
    "    return full_name \n"
   ]
  },
  {
   "cell_type": "markdown",
   "id": "81de47eb",
   "metadata": {},
   "source": [
    "List "
   ]
  },
  {
   "cell_type": "markdown",
   "id": "0276359b",
   "metadata": {},
   "source": [
    "Tuple & Set"
   ]
  },
  {
   "cell_type": "markdown",
   "id": "b39a6f16",
   "metadata": {},
   "source": [
    "Dict"
   ]
  },
  {
   "cell_type": "markdown",
   "id": "002a08b8",
   "metadata": {},
   "source": [
    "Union"
   ]
  },
  {
   "cell_type": "markdown",
   "id": "dafe137c",
   "metadata": {},
   "source": [
    "Optional"
   ]
  },
  {
   "cell_type": "markdown",
   "id": "027c5e0a",
   "metadata": {},
   "source": [
    "### Pydantic "
   ]
  },
  {
   "cell_type": "code",
   "execution_count": 1,
   "id": "7db6e62f",
   "metadata": {},
   "outputs": [
    {
     "name": "stdout",
     "output_type": "stream",
     "text": [
      "id=123 name='Noodles' price=10000 type_=['food']\n"
     ]
    }
   ],
   "source": [
    "## example \n",
    "from pydantic import BaseModel \n",
    "\n",
    "class Item(BaseModel):\n",
    "    id: int\n",
    "    name: str\n",
    "    price: int \n",
    "    type_ : list[str] | None \n",
    "\n",
    "data_ex = {\n",
    "    \"id\" : 123,\n",
    "    \"name\" : \"Noodles\",\n",
    "    \"price\" : 10000,\n",
    "    \"type_\" : [\"food\"]\n",
    "}\n",
    "\n",
    "item1 = Item(**data_ex)\n",
    "print(item1 )"
   ]
  },
  {
   "cell_type": "code",
   "execution_count": null,
   "id": "25ff892e",
   "metadata": {},
   "outputs": [],
   "source": []
  }
 ],
 "metadata": {
  "kernelspec": {
   "display_name": "env",
   "language": "python",
   "name": "python3"
  },
  "language_info": {
   "codemirror_mode": {
    "name": "ipython",
    "version": 3
   },
   "file_extension": ".py",
   "mimetype": "text/x-python",
   "name": "python",
   "nbconvert_exporter": "python",
   "pygments_lexer": "ipython3",
   "version": "3.13.5"
  }
 },
 "nbformat": 4,
 "nbformat_minor": 5
}
